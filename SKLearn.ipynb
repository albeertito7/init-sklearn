{
 "cells": [
  {
   "cell_type": "markdown",
   "metadata": {},
   "source": [
    "# SKLearn\n",
    "\n",
    "%% TODO intro\n",
    "ML\n",
    "\n",
    "In real life, we wouldn't implement each algorithm from zero (remember, **Don't reinvent the wheel**). There exist multiple libraries for different languages that implement highly optimized and highly parameterizable versions of those algorithms.\n",
    "\n",
    "For Python, one of the most used libraries is *Scikit-Learn* (also known as *sklearn*).\n",
    "\n",
    "In this notebook we will see how we can use this library to do:\n",
    "\n",
    "1. Supervised learning\n",
    "    - Train-test split\n",
    "    - Classification using **Decision Trees**\n",
    "    - Classification using **Naive Bayes**\n",
    "2. Unsupervised learning\n",
    "    - Clustering using **K-Means**\n",
    "3. Evaluate models\n",
    "    - Cross validation\n",
    "4. Transformations and pipelines\n",
    "    - Transform data\n",
    "    - Combine transforms and models: pipelines\n"
   ]
  },
  {
   "cell_type": "markdown",
   "metadata": {},
   "source": [
    "Let's start by installing the framework to our environment:"
   ]
  },
  {
   "cell_type": "code",
   "execution_count": 1,
   "metadata": {},
   "outputs": [
    {
     "name": "stdout",
     "output_type": "stream",
     "text": [
      "Requirement already satisfied: scikit-learn in /var/pyenv/josep/versions/3.8.5/envs/classes_master/lib/python3.8/site-packages (0.24.0)\n",
      "Requirement already satisfied: numpy>=1.13.3 in /var/pyenv/josep/versions/3.8.5/envs/classes_master/lib/python3.8/site-packages (from scikit-learn) (1.19.5)\n",
      "Requirement already satisfied: joblib>=0.11 in /var/pyenv/josep/versions/3.8.5/envs/classes_master/lib/python3.8/site-packages (from scikit-learn) (1.0.0)\n",
      "Requirement already satisfied: threadpoolctl>=2.0.0 in /var/pyenv/josep/versions/3.8.5/envs/classes_master/lib/python3.8/site-packages (from scikit-learn) (2.1.0)\n",
      "Requirement already satisfied: scipy>=0.19.1 in /var/pyenv/josep/versions/3.8.5/envs/classes_master/lib/python3.8/site-packages (from scikit-learn) (1.6.0)\n"
     ]
    }
   ],
   "source": [
    "!pip install scikit-learn"
   ]
  },
  {
   "cell_type": "markdown",
   "metadata": {},
   "source": [
    "## Load our dataset"
   ]
  },
  {
   "cell_type": "markdown",
   "metadata": {},
   "source": [
    "First, we want to load a toy dataset. The iris dataset is a classification dataset that contains observations of 3 types of flowers.\n",
    "\n",
    "Sklearn provides functions to load those toy datasets, otherwise we could use pandas for example to read from a file or a URL.\n",
    "\n",
    "The function `load_iris` present in the `sklearn.datasets` module return a dictionary with the dataset values and some descriptors."
   ]
  },
  {
   "cell_type": "code",
   "execution_count": 2,
   "metadata": {
    "scrolled": true
   },
   "outputs": [
    {
     "name": "stdout",
     "output_type": "stream",
     "text": [
      "dict_keys(['data', 'target', 'frame', 'target_names', 'DESCR', 'feature_names', 'filename'])\n"
     ]
    }
   ],
   "source": [
    "from sklearn.datasets import load_iris\n",
    "\n",
    "loaded = load_iris()\n",
    "\n",
    "print(loaded.keys())"
   ]
  },
  {
   "cell_type": "markdown",
   "metadata": {},
   "source": [
    "We have loaded a dictionary with:\n",
    "\n",
    "- `data`: The matrix of the attributes, as a numpy array of shape [rows, features]\n",
    "- `target`: The label assigned for each row, as a numpy array of shape [rows]\n",
    "- `feature_names`: The name of each column of the `data` matrix\n",
    "- `target_names`: As the target is a numpy array, it is composed by numeric values. This item contains a list of the names corresponding to each value\n",
    "- `DESCR`: The full description of the dataset\n",
    "- `filename`: The path location of the data\n",
    "\n",
    "We will try to recreate the `frame` returned using pandas with the other attributes.\n",
    "\n",
    "First, let's start by seeing the rows with both the features and their labels. We can use numpy indexing to show only the first 5 rows:"
   ]
  },
  {
   "cell_type": "code",
   "execution_count": 3,
   "metadata": {},
   "outputs": [
    {
     "name": "stdout",
     "output_type": "stream",
     "text": [
      "[[5.1 3.5 1.4 0.2]\n",
      " [4.9 3.  1.4 0.2]\n",
      " [4.7 3.2 1.3 0.2]\n",
      " [4.6 3.1 1.5 0.2]\n",
      " [5.  3.6 1.4 0.2]]\n",
      "\n",
      "[0 0 0 0 0 0 0 0 0 0 0 0 0 0 0 0 0 0 0 0 0 0 0 0 0 0 0 0 0 0 0 0 0 0 0 0 0\n",
      " 0 0 0 0 0 0 0 0 0 0 0 0 0 1 1 1 1 1 1 1 1 1 1 1 1 1 1 1 1 1 1 1 1 1 1 1 1\n",
      " 1 1 1 1 1 1 1 1 1 1 1 1 1 1 1 1 1 1 1 1 1 1 1 1 1 1 2 2 2 2 2 2 2 2 2 2 2\n",
      " 2 2 2 2 2 2 2 2 2 2 2 2 2 2 2 2 2 2 2 2 2 2 2 2 2 2 2 2 2 2 2 2 2 2 2 2 2\n",
      " 2 2]\n"
     ]
    }
   ],
   "source": [
    "print(loaded.data[:5,], end=\"\\n\\n\")\n",
    "print(loaded.target)"
   ]
  },
  {
   "cell_type": "markdown",
   "metadata": {},
   "source": [
    "We can get some descriptive names for those numbers that we saw:"
   ]
  },
  {
   "cell_type": "code",
   "execution_count": 4,
   "metadata": {},
   "outputs": [
    {
     "name": "stdout",
     "output_type": "stream",
     "text": [
      "['sepal length (cm)', 'sepal width (cm)', 'petal length (cm)', 'petal width (cm)']\n",
      "['setosa' 'versicolor' 'virginica']\n"
     ]
    }
   ],
   "source": [
    "print(loaded.feature_names)\n",
    "print(loaded.target_names)"
   ]
  },
  {
   "cell_type": "markdown",
   "metadata": {},
   "source": [
    "The feature names are the names assigned to each column of the `data` array.\n",
    "\n",
    "The target names show us that when we find the number 0 in the `target` array, we know it is a flower of the class *setosa*. Same goes for 1: *versicolor* and 2: *virginica*."
   ]
  },
  {
   "cell_type": "markdown",
   "metadata": {},
   "source": [
    "### Convert raw data to a dataframe\n",
    "\n",
    "*In the 0.23 version, SKlearn added the `as_frame` parameter to the `load_dataset` method. For educational purposes, we ignored this parameter and we will create the dataframe manually*\n",
    "\n",
    "We have all the data, the target, the columns names... We can use the \"magic\" of Pandas to create a dataframe that contains all this information:"
   ]
  },
  {
   "cell_type": "code",
   "execution_count": 5,
   "metadata": {
    "scrolled": true
   },
   "outputs": [
    {
     "data": {
      "text/html": [
       "<div>\n",
       "<style scoped>\n",
       "    .dataframe tbody tr th:only-of-type {\n",
       "        vertical-align: middle;\n",
       "    }\n",
       "\n",
       "    .dataframe tbody tr th {\n",
       "        vertical-align: top;\n",
       "    }\n",
       "\n",
       "    .dataframe thead th {\n",
       "        text-align: right;\n",
       "    }\n",
       "</style>\n",
       "<table border=\"1\" class=\"dataframe\">\n",
       "  <thead>\n",
       "    <tr style=\"text-align: right;\">\n",
       "      <th></th>\n",
       "      <th>sepal length (cm)</th>\n",
       "      <th>sepal width (cm)</th>\n",
       "      <th>petal length (cm)</th>\n",
       "      <th>petal width (cm)</th>\n",
       "      <th>Label</th>\n",
       "    </tr>\n",
       "  </thead>\n",
       "  <tbody>\n",
       "    <tr>\n",
       "      <th>0</th>\n",
       "      <td>5.1</td>\n",
       "      <td>3.5</td>\n",
       "      <td>1.4</td>\n",
       "      <td>0.2</td>\n",
       "      <td>0</td>\n",
       "    </tr>\n",
       "    <tr>\n",
       "      <th>1</th>\n",
       "      <td>4.9</td>\n",
       "      <td>3.0</td>\n",
       "      <td>1.4</td>\n",
       "      <td>0.2</td>\n",
       "      <td>0</td>\n",
       "    </tr>\n",
       "    <tr>\n",
       "      <th>2</th>\n",
       "      <td>4.7</td>\n",
       "      <td>3.2</td>\n",
       "      <td>1.3</td>\n",
       "      <td>0.2</td>\n",
       "      <td>0</td>\n",
       "    </tr>\n",
       "    <tr>\n",
       "      <th>3</th>\n",
       "      <td>4.6</td>\n",
       "      <td>3.1</td>\n",
       "      <td>1.5</td>\n",
       "      <td>0.2</td>\n",
       "      <td>0</td>\n",
       "    </tr>\n",
       "    <tr>\n",
       "      <th>4</th>\n",
       "      <td>5.0</td>\n",
       "      <td>3.6</td>\n",
       "      <td>1.4</td>\n",
       "      <td>0.2</td>\n",
       "      <td>0</td>\n",
       "    </tr>\n",
       "  </tbody>\n",
       "</table>\n",
       "</div>"
      ],
      "text/plain": [
       "   sepal length (cm)  sepal width (cm)  petal length (cm)  petal width (cm)  \\\n",
       "0                5.1               3.5                1.4               0.2   \n",
       "1                4.9               3.0                1.4               0.2   \n",
       "2                4.7               3.2                1.3               0.2   \n",
       "3                4.6               3.1                1.5               0.2   \n",
       "4                5.0               3.6                1.4               0.2   \n",
       "\n",
       "   Label  \n",
       "0      0  \n",
       "1      0  \n",
       "2      0  \n",
       "3      0  \n",
       "4      0  "
      ]
     },
     "execution_count": 5,
     "metadata": {},
     "output_type": "execute_result"
    }
   ],
   "source": [
    "import pandas\n",
    "\n",
    "iris_dataset = pandas.DataFrame(loaded.data, columns=loaded.feature_names)\n",
    "\n",
    "# iris_dataset.insert(4, \"Label\", loaded.target)\n",
    "iris_dataset[\"Label\"] = loaded.target\n",
    "\n",
    "iris_dataset.head()  # Get only the first rows of the dataframe"
   ]
  },
  {
   "cell_type": "markdown",
   "metadata": {},
   "source": [
    "Ugh, the label is still numeric. This is not very intuitive... As we have the real names, we can transform the last column to show the real name of the flower applying a function to each row (axis=0 by default)."
   ]
  },
  {
   "cell_type": "code",
   "execution_count": 10,
   "metadata": {
    "scrolled": true
   },
   "outputs": [
    {
     "data": {
      "text/html": [
       "<div>\n",
       "<style scoped>\n",
       "    .dataframe tbody tr th:only-of-type {\n",
       "        vertical-align: middle;\n",
       "    }\n",
       "\n",
       "    .dataframe tbody tr th {\n",
       "        vertical-align: top;\n",
       "    }\n",
       "\n",
       "    .dataframe thead th {\n",
       "        text-align: right;\n",
       "    }\n",
       "</style>\n",
       "<table border=\"1\" class=\"dataframe\">\n",
       "  <thead>\n",
       "    <tr style=\"text-align: right;\">\n",
       "      <th></th>\n",
       "      <th>sepal length (cm)</th>\n",
       "      <th>sepal width (cm)</th>\n",
       "      <th>petal length (cm)</th>\n",
       "      <th>petal width (cm)</th>\n",
       "      <th>Label</th>\n",
       "    </tr>\n",
       "  </thead>\n",
       "  <tbody>\n",
       "    <tr>\n",
       "      <th>0</th>\n",
       "      <td>5.1</td>\n",
       "      <td>3.5</td>\n",
       "      <td>1.4</td>\n",
       "      <td>0.2</td>\n",
       "      <td>setosa</td>\n",
       "    </tr>\n",
       "    <tr>\n",
       "      <th>1</th>\n",
       "      <td>4.9</td>\n",
       "      <td>3.0</td>\n",
       "      <td>1.4</td>\n",
       "      <td>0.2</td>\n",
       "      <td>setosa</td>\n",
       "    </tr>\n",
       "    <tr>\n",
       "      <th>2</th>\n",
       "      <td>4.7</td>\n",
       "      <td>3.2</td>\n",
       "      <td>1.3</td>\n",
       "      <td>0.2</td>\n",
       "      <td>setosa</td>\n",
       "    </tr>\n",
       "    <tr>\n",
       "      <th>3</th>\n",
       "      <td>4.6</td>\n",
       "      <td>3.1</td>\n",
       "      <td>1.5</td>\n",
       "      <td>0.2</td>\n",
       "      <td>setosa</td>\n",
       "    </tr>\n",
       "    <tr>\n",
       "      <th>4</th>\n",
       "      <td>5.0</td>\n",
       "      <td>3.6</td>\n",
       "      <td>1.4</td>\n",
       "      <td>0.2</td>\n",
       "      <td>setosa</td>\n",
       "    </tr>\n",
       "  </tbody>\n",
       "</table>\n",
       "</div>"
      ],
      "text/plain": [
       "   sepal length (cm)  sepal width (cm)  petal length (cm)  petal width (cm)  \\\n",
       "0                5.1               3.5                1.4               0.2   \n",
       "1                4.9               3.0                1.4               0.2   \n",
       "2                4.7               3.2                1.3               0.2   \n",
       "3                4.6               3.1                1.5               0.2   \n",
       "4                5.0               3.6                1.4               0.2   \n",
       "\n",
       "    Label  \n",
       "0  setosa  \n",
       "1  setosa  \n",
       "2  setosa  \n",
       "3  setosa  \n",
       "4  setosa  "
      ]
     },
     "execution_count": 10,
     "metadata": {},
     "output_type": "execute_result"
    }
   ],
   "source": [
    "iris_dataset[\"Label\"] = iris_dataset[\"Label\"].apply(\n",
    "    lambda idx: loaded.target_names[idx]\n",
    ")\n",
    "\n",
    "iris_dataset.head()"
   ]
  },
  {
   "cell_type": "markdown",
   "metadata": {},
   "source": [
    "Much better, we now have our data prepared to be feed to our algorithms."
   ]
  },
  {
   "cell_type": "markdown",
   "metadata": {},
   "source": [
    "## Models"
   ]
  },
  {
   "cell_type": "markdown",
   "metadata": {},
   "source": [
    "### Preparing our sets"
   ]
  },
  {
   "cell_type": "markdown",
   "metadata": {},
   "source": [
    "In ML, we want to find models that can perform well on unseen data. To do so, we will split our data into two sets: **train** and **test**. We can use the functions from sklearn to do it:"
   ]
  },
  {
   "cell_type": "code",
   "execution_count": 11,
   "metadata": {},
   "outputs": [
    {
     "data": {
      "text/plain": [
       "(150, 5)"
      ]
     },
     "execution_count": 11,
     "metadata": {},
     "output_type": "execute_result"
    }
   ],
   "source": [
    "iris_dataset.shape"
   ]
  },
  {
   "cell_type": "code",
   "execution_count": 12,
   "metadata": {},
   "outputs": [
    {
     "name": "stdout",
     "output_type": "stream",
     "text": [
      "(120, 5)\n",
      "(30, 5)\n"
     ]
    }
   ],
   "source": [
    "from sklearn.model_selection import train_test_split\n",
    "\n",
    "train, test = train_test_split(iris_dataset, test_size=0.2, random_state=42)\n",
    "\n",
    "print(train.shape)\n",
    "print(test.shape)"
   ]
  },
  {
   "cell_type": "code",
   "execution_count": 13,
   "metadata": {
    "scrolled": true
   },
   "outputs": [
    {
     "data": {
      "text/html": [
       "<div>\n",
       "<style scoped>\n",
       "    .dataframe tbody tr th:only-of-type {\n",
       "        vertical-align: middle;\n",
       "    }\n",
       "\n",
       "    .dataframe tbody tr th {\n",
       "        vertical-align: top;\n",
       "    }\n",
       "\n",
       "    .dataframe thead th {\n",
       "        text-align: right;\n",
       "    }\n",
       "</style>\n",
       "<table border=\"1\" class=\"dataframe\">\n",
       "  <thead>\n",
       "    <tr style=\"text-align: right;\">\n",
       "      <th></th>\n",
       "      <th>sepal length (cm)</th>\n",
       "      <th>sepal width (cm)</th>\n",
       "      <th>petal length (cm)</th>\n",
       "      <th>petal width (cm)</th>\n",
       "      <th>Label</th>\n",
       "    </tr>\n",
       "  </thead>\n",
       "  <tbody>\n",
       "    <tr>\n",
       "      <th>73</th>\n",
       "      <td>6.1</td>\n",
       "      <td>2.8</td>\n",
       "      <td>4.7</td>\n",
       "      <td>1.2</td>\n",
       "      <td>versicolor</td>\n",
       "    </tr>\n",
       "    <tr>\n",
       "      <th>18</th>\n",
       "      <td>5.7</td>\n",
       "      <td>3.8</td>\n",
       "      <td>1.7</td>\n",
       "      <td>0.3</td>\n",
       "      <td>setosa</td>\n",
       "    </tr>\n",
       "    <tr>\n",
       "      <th>118</th>\n",
       "      <td>7.7</td>\n",
       "      <td>2.6</td>\n",
       "      <td>6.9</td>\n",
       "      <td>2.3</td>\n",
       "      <td>virginica</td>\n",
       "    </tr>\n",
       "    <tr>\n",
       "      <th>78</th>\n",
       "      <td>6.0</td>\n",
       "      <td>2.9</td>\n",
       "      <td>4.5</td>\n",
       "      <td>1.5</td>\n",
       "      <td>versicolor</td>\n",
       "    </tr>\n",
       "    <tr>\n",
       "      <th>76</th>\n",
       "      <td>6.8</td>\n",
       "      <td>2.8</td>\n",
       "      <td>4.8</td>\n",
       "      <td>1.4</td>\n",
       "      <td>versicolor</td>\n",
       "    </tr>\n",
       "    <tr>\n",
       "      <th>31</th>\n",
       "      <td>5.4</td>\n",
       "      <td>3.4</td>\n",
       "      <td>1.5</td>\n",
       "      <td>0.4</td>\n",
       "      <td>setosa</td>\n",
       "    </tr>\n",
       "    <tr>\n",
       "      <th>64</th>\n",
       "      <td>5.6</td>\n",
       "      <td>2.9</td>\n",
       "      <td>3.6</td>\n",
       "      <td>1.3</td>\n",
       "      <td>versicolor</td>\n",
       "    </tr>\n",
       "    <tr>\n",
       "      <th>141</th>\n",
       "      <td>6.9</td>\n",
       "      <td>3.1</td>\n",
       "      <td>5.1</td>\n",
       "      <td>2.3</td>\n",
       "      <td>virginica</td>\n",
       "    </tr>\n",
       "    <tr>\n",
       "      <th>68</th>\n",
       "      <td>6.2</td>\n",
       "      <td>2.2</td>\n",
       "      <td>4.5</td>\n",
       "      <td>1.5</td>\n",
       "      <td>versicolor</td>\n",
       "    </tr>\n",
       "    <tr>\n",
       "      <th>82</th>\n",
       "      <td>5.8</td>\n",
       "      <td>2.7</td>\n",
       "      <td>3.9</td>\n",
       "      <td>1.2</td>\n",
       "      <td>versicolor</td>\n",
       "    </tr>\n",
       "    <tr>\n",
       "      <th>110</th>\n",
       "      <td>6.5</td>\n",
       "      <td>3.2</td>\n",
       "      <td>5.1</td>\n",
       "      <td>2.0</td>\n",
       "      <td>virginica</td>\n",
       "    </tr>\n",
       "    <tr>\n",
       "      <th>12</th>\n",
       "      <td>4.8</td>\n",
       "      <td>3.0</td>\n",
       "      <td>1.4</td>\n",
       "      <td>0.1</td>\n",
       "      <td>setosa</td>\n",
       "    </tr>\n",
       "    <tr>\n",
       "      <th>36</th>\n",
       "      <td>5.5</td>\n",
       "      <td>3.5</td>\n",
       "      <td>1.3</td>\n",
       "      <td>0.2</td>\n",
       "      <td>setosa</td>\n",
       "    </tr>\n",
       "    <tr>\n",
       "      <th>9</th>\n",
       "      <td>4.9</td>\n",
       "      <td>3.1</td>\n",
       "      <td>1.5</td>\n",
       "      <td>0.1</td>\n",
       "      <td>setosa</td>\n",
       "    </tr>\n",
       "    <tr>\n",
       "      <th>19</th>\n",
       "      <td>5.1</td>\n",
       "      <td>3.8</td>\n",
       "      <td>1.5</td>\n",
       "      <td>0.3</td>\n",
       "      <td>setosa</td>\n",
       "    </tr>\n",
       "    <tr>\n",
       "      <th>56</th>\n",
       "      <td>6.3</td>\n",
       "      <td>3.3</td>\n",
       "      <td>4.7</td>\n",
       "      <td>1.6</td>\n",
       "      <td>versicolor</td>\n",
       "    </tr>\n",
       "    <tr>\n",
       "      <th>104</th>\n",
       "      <td>6.5</td>\n",
       "      <td>3.0</td>\n",
       "      <td>5.8</td>\n",
       "      <td>2.2</td>\n",
       "      <td>virginica</td>\n",
       "    </tr>\n",
       "    <tr>\n",
       "      <th>69</th>\n",
       "      <td>5.6</td>\n",
       "      <td>2.5</td>\n",
       "      <td>3.9</td>\n",
       "      <td>1.1</td>\n",
       "      <td>versicolor</td>\n",
       "    </tr>\n",
       "    <tr>\n",
       "      <th>55</th>\n",
       "      <td>5.7</td>\n",
       "      <td>2.8</td>\n",
       "      <td>4.5</td>\n",
       "      <td>1.3</td>\n",
       "      <td>versicolor</td>\n",
       "    </tr>\n",
       "    <tr>\n",
       "      <th>132</th>\n",
       "      <td>6.4</td>\n",
       "      <td>2.8</td>\n",
       "      <td>5.6</td>\n",
       "      <td>2.2</td>\n",
       "      <td>virginica</td>\n",
       "    </tr>\n",
       "    <tr>\n",
       "      <th>29</th>\n",
       "      <td>4.7</td>\n",
       "      <td>3.2</td>\n",
       "      <td>1.6</td>\n",
       "      <td>0.2</td>\n",
       "      <td>setosa</td>\n",
       "    </tr>\n",
       "    <tr>\n",
       "      <th>127</th>\n",
       "      <td>6.1</td>\n",
       "      <td>3.0</td>\n",
       "      <td>4.9</td>\n",
       "      <td>1.8</td>\n",
       "      <td>virginica</td>\n",
       "    </tr>\n",
       "    <tr>\n",
       "      <th>26</th>\n",
       "      <td>5.0</td>\n",
       "      <td>3.4</td>\n",
       "      <td>1.6</td>\n",
       "      <td>0.4</td>\n",
       "      <td>setosa</td>\n",
       "    </tr>\n",
       "    <tr>\n",
       "      <th>128</th>\n",
       "      <td>6.4</td>\n",
       "      <td>2.8</td>\n",
       "      <td>5.6</td>\n",
       "      <td>2.1</td>\n",
       "      <td>virginica</td>\n",
       "    </tr>\n",
       "    <tr>\n",
       "      <th>131</th>\n",
       "      <td>7.9</td>\n",
       "      <td>3.8</td>\n",
       "      <td>6.4</td>\n",
       "      <td>2.0</td>\n",
       "      <td>virginica</td>\n",
       "    </tr>\n",
       "    <tr>\n",
       "      <th>145</th>\n",
       "      <td>6.7</td>\n",
       "      <td>3.0</td>\n",
       "      <td>5.2</td>\n",
       "      <td>2.3</td>\n",
       "      <td>virginica</td>\n",
       "    </tr>\n",
       "    <tr>\n",
       "      <th>108</th>\n",
       "      <td>6.7</td>\n",
       "      <td>2.5</td>\n",
       "      <td>5.8</td>\n",
       "      <td>1.8</td>\n",
       "      <td>virginica</td>\n",
       "    </tr>\n",
       "    <tr>\n",
       "      <th>143</th>\n",
       "      <td>6.8</td>\n",
       "      <td>3.2</td>\n",
       "      <td>5.9</td>\n",
       "      <td>2.3</td>\n",
       "      <td>virginica</td>\n",
       "    </tr>\n",
       "    <tr>\n",
       "      <th>45</th>\n",
       "      <td>4.8</td>\n",
       "      <td>3.0</td>\n",
       "      <td>1.4</td>\n",
       "      <td>0.3</td>\n",
       "      <td>setosa</td>\n",
       "    </tr>\n",
       "    <tr>\n",
       "      <th>30</th>\n",
       "      <td>4.8</td>\n",
       "      <td>3.1</td>\n",
       "      <td>1.6</td>\n",
       "      <td>0.2</td>\n",
       "      <td>setosa</td>\n",
       "    </tr>\n",
       "  </tbody>\n",
       "</table>\n",
       "</div>"
      ],
      "text/plain": [
       "     sepal length (cm)  sepal width (cm)  petal length (cm)  petal width (cm)  \\\n",
       "73                 6.1               2.8                4.7               1.2   \n",
       "18                 5.7               3.8                1.7               0.3   \n",
       "118                7.7               2.6                6.9               2.3   \n",
       "78                 6.0               2.9                4.5               1.5   \n",
       "76                 6.8               2.8                4.8               1.4   \n",
       "31                 5.4               3.4                1.5               0.4   \n",
       "64                 5.6               2.9                3.6               1.3   \n",
       "141                6.9               3.1                5.1               2.3   \n",
       "68                 6.2               2.2                4.5               1.5   \n",
       "82                 5.8               2.7                3.9               1.2   \n",
       "110                6.5               3.2                5.1               2.0   \n",
       "12                 4.8               3.0                1.4               0.1   \n",
       "36                 5.5               3.5                1.3               0.2   \n",
       "9                  4.9               3.1                1.5               0.1   \n",
       "19                 5.1               3.8                1.5               0.3   \n",
       "56                 6.3               3.3                4.7               1.6   \n",
       "104                6.5               3.0                5.8               2.2   \n",
       "69                 5.6               2.5                3.9               1.1   \n",
       "55                 5.7               2.8                4.5               1.3   \n",
       "132                6.4               2.8                5.6               2.2   \n",
       "29                 4.7               3.2                1.6               0.2   \n",
       "127                6.1               3.0                4.9               1.8   \n",
       "26                 5.0               3.4                1.6               0.4   \n",
       "128                6.4               2.8                5.6               2.1   \n",
       "131                7.9               3.8                6.4               2.0   \n",
       "145                6.7               3.0                5.2               2.3   \n",
       "108                6.7               2.5                5.8               1.8   \n",
       "143                6.8               3.2                5.9               2.3   \n",
       "45                 4.8               3.0                1.4               0.3   \n",
       "30                 4.8               3.1                1.6               0.2   \n",
       "\n",
       "          Label  \n",
       "73   versicolor  \n",
       "18       setosa  \n",
       "118   virginica  \n",
       "78   versicolor  \n",
       "76   versicolor  \n",
       "31       setosa  \n",
       "64   versicolor  \n",
       "141   virginica  \n",
       "68   versicolor  \n",
       "82   versicolor  \n",
       "110   virginica  \n",
       "12       setosa  \n",
       "36       setosa  \n",
       "9        setosa  \n",
       "19       setosa  \n",
       "56   versicolor  \n",
       "104   virginica  \n",
       "69   versicolor  \n",
       "55   versicolor  \n",
       "132   virginica  \n",
       "29       setosa  \n",
       "127   virginica  \n",
       "26       setosa  \n",
       "128   virginica  \n",
       "131   virginica  \n",
       "145   virginica  \n",
       "108   virginica  \n",
       "143   virginica  \n",
       "45       setosa  \n",
       "30       setosa  "
      ]
     },
     "execution_count": 13,
     "metadata": {},
     "output_type": "execute_result"
    }
   ],
   "source": [
    "test"
   ]
  },
  {
   "cell_type": "markdown",
   "metadata": {},
   "source": [
    "### Classification\n",
    "Let's try to create a classifier that, given a sepal length and width, and a petal length and width; it will assign the class of flower we are looking for.\n",
    "\n",
    "To classify the different observations, we will train a first a decision tree, and then see how many changes we have to do to train another classification model (naive bayes)."
   ]
  },
  {
   "cell_type": "markdown",
   "metadata": {},
   "source": [
    "#### Decision tree"
   ]
  },
  {
   "cell_type": "markdown",
   "metadata": {},
   "source": [
    "Let's start by showing how to use the `DecisionTreeClassifier` class from sklearn.\n",
    "\n",
    "We will use a decision tree that splits based on the Gini score, limits the tree to have at most a depth of 3 levels (this is, classify taking at most 3 decisions), and to create a leaf it requires at least 10 observations to reach this leaf."
   ]
  },
  {
   "cell_type": "code",
   "execution_count": 14,
   "metadata": {},
   "outputs": [
    {
     "data": {
      "text/plain": [
       "DecisionTreeClassifier(max_depth=3, min_samples_leaf=10, random_state=42)"
      ]
     },
     "execution_count": 14,
     "metadata": {},
     "output_type": "execute_result"
    }
   ],
   "source": [
    "from sklearn.tree import DecisionTreeClassifier\n",
    "\n",
    "dt_classifier = DecisionTreeClassifier(\n",
    "    criterion=\"gini\",\n",
    "    max_depth=3,\n",
    "    min_samples_leaf=10,\n",
    "    random_state=42\n",
    ")\n",
    "\n",
    "dt_classifier"
   ]
  },
  {
   "cell_type": "markdown",
   "metadata": {},
   "source": [
    "We have our classifier, created, so let's start the training of our model with the training data. In the context of sklearn, this is known as *fitting* the model (i.e. learning the values of a model to describe a dataset).\n",
    "\n",
    "The fit method expects at least two values:\n",
    "- X: contains the features of each row\n",
    "- y: contains the targets of each row"
   ]
  },
  {
   "cell_type": "code",
   "execution_count": 15,
   "metadata": {},
   "outputs": [
    {
     "data": {
      "text/plain": [
       "DecisionTreeClassifier(max_depth=3, min_samples_leaf=10, random_state=42)"
      ]
     },
     "execution_count": 15,
     "metadata": {},
     "output_type": "execute_result"
    }
   ],
   "source": [
    "X_train = train.drop(\"Label\", 1)  # Get only the features\n",
    "y_train = train[\"Label\"]  # Get only the target\n",
    "\n",
    "dt_classifier.fit(X_train, y_train)"
   ]
  },
  {
   "cell_type": "markdown",
   "metadata": {},
   "source": [
    "The tree now is trained.\n",
    "\n",
    "We can even get a representation of the tree using the `plot_tree` function *(added in version 0.21)*.\n",
    "\n",
    "We will need matplotlib installed to use this function:"
   ]
  },
  {
   "cell_type": "code",
   "execution_count": 16,
   "metadata": {},
   "outputs": [
    {
     "name": "stdout",
     "output_type": "stream",
     "text": [
      "Requirement already satisfied: matplotlib in /var/pyenv/josep/versions/3.8.5/envs/classes_master/lib/python3.8/site-packages (3.3.3)\r\n",
      "Requirement already satisfied: numpy>=1.15 in /var/pyenv/josep/versions/3.8.5/envs/classes_master/lib/python3.8/site-packages (from matplotlib) (1.19.5)\r\n",
      "Requirement already satisfied: cycler>=0.10 in /var/pyenv/josep/versions/3.8.5/envs/classes_master/lib/python3.8/site-packages (from matplotlib) (0.10.0)\r\n",
      "Requirement already satisfied: pillow>=6.2.0 in /var/pyenv/josep/versions/3.8.5/envs/classes_master/lib/python3.8/site-packages (from matplotlib) (8.1.0)\r\n",
      "Requirement already satisfied: kiwisolver>=1.0.1 in /var/pyenv/josep/versions/3.8.5/envs/classes_master/lib/python3.8/site-packages (from matplotlib) (1.3.1)\r\n",
      "Requirement already satisfied: python-dateutil>=2.1 in /var/pyenv/josep/versions/3.8.5/envs/classes_master/lib/python3.8/site-packages (from matplotlib) (2.8.1)\r\n",
      "Requirement already satisfied: pyparsing!=2.0.4,!=2.1.2,!=2.1.6,>=2.0.3 in /var/pyenv/josep/versions/3.8.5/envs/classes_master/lib/python3.8/site-packages (from matplotlib) (2.4.7)\r\n",
      "Requirement already satisfied: six in /var/pyenv/josep/versions/3.8.5/envs/classes_master/lib/python3.8/site-packages (from cycler>=0.10->matplotlib) (1.15.0)\r\n"
     ]
    }
   ],
   "source": [
    "!pip install matplotlib"
   ]
  },
  {
   "cell_type": "code",
   "execution_count": 17,
   "metadata": {},
   "outputs": [
    {
     "data": {
      "text/plain": [
       "[Text(125.55000000000001, 190.26, 'X[2] <= 2.45\\ngini = 0.667\\nsamples = 120\\nvalue = [40, 41, 39]'),\n",
       " Text(83.7, 135.9, 'gini = 0.0\\nsamples = 40\\nvalue = [40, 0, 0]'),\n",
       " Text(167.4, 135.9, 'X[2] <= 4.75\\ngini = 0.5\\nsamples = 80\\nvalue = [0, 41, 39]'),\n",
       " Text(83.7, 81.53999999999999, 'X[1] <= 2.55\\ngini = 0.053\\nsamples = 37\\nvalue = [0, 36, 1]'),\n",
       " Text(41.85, 27.180000000000007, 'gini = 0.165\\nsamples = 11\\nvalue = [0, 10, 1]'),\n",
       " Text(125.55000000000001, 27.180000000000007, 'gini = 0.0\\nsamples = 26\\nvalue = [0, 26, 0]'),\n",
       " Text(251.10000000000002, 81.53999999999999, 'X[2] <= 5.05\\ngini = 0.206\\nsamples = 43\\nvalue = [0, 5, 38]'),\n",
       " Text(209.25, 27.180000000000007, 'gini = 0.463\\nsamples = 11\\nvalue = [0, 4, 7]'),\n",
       " Text(292.95, 27.180000000000007, 'gini = 0.061\\nsamples = 32\\nvalue = [0, 1, 31]')]"
      ]
     },
     "execution_count": 17,
     "metadata": {},
     "output_type": "execute_result"
    },
    {
     "data": {
      "image/png": "[encoded data removed]",
      "text/plain": [
       "<Figure size 432x288 with 1 Axes>"
      ]
     },
     "metadata": {
      "needs_background": "light"
     },
     "output_type": "display_data"
    }
   ],
   "source": [
    "from sklearn.tree import plot_tree\n",
    "\n",
    "plot_tree(dt_classifier)"
   ]
  },
  {
   "cell_type": "markdown",
   "metadata": {},
   "source": [
    "We can classify some rows using the `predict` function. Note that this function expects an entire dataset, so if we want to classify a single row we have to create an array with one element."
   ]
  },
  {
   "cell_type": "code",
   "execution_count": 21,
   "metadata": {},
   "outputs": [
    {
     "name": "stdout",
     "output_type": "stream",
     "text": [
      "sepal length (cm)    5.7\n",
      "sepal width (cm)     3.8\n",
      "petal length (cm)    1.7\n",
      "petal width (cm)     0.3\n",
      "Name: 18, dtype: float64\n",
      "Expected class is: setosa\n",
      "Assigned class is: ['setosa']\n"
     ]
    }
   ],
   "source": [
    "X_test = test.drop(\"Label\", 1)\n",
    "y_test = test[\"Label\"]\n",
    "\n",
    "row = X_test.iloc[1,:]\n",
    "\n",
    "print(row)\n",
    "print(\"Expected class is:\", y_test.iloc[1])\n",
    "print(\"Assigned class is:\", dt_classifier.predict([row]))"
   ]
  },
  {
   "cell_type": "markdown",
   "metadata": {},
   "source": [
    "##### Evaluate the accuracy of the model\n",
    "\n",
    "We would like to know how  well our decision tree classifies. To do so, we can use the accuracy of the model on our test set.\n",
    "\n",
    "The accuracy is defined as:\n",
    "$$\n",
    "accuracy = \\frac{\\text{correctly classified rows}}{\\text{total rows}}\n",
    "$$\n",
    "\n",
    "Fortunately, the models from *sklearn* implement already the `score` method:"
   ]
  },
  {
   "cell_type": "code",
   "execution_count": 22,
   "metadata": {},
   "outputs": [
    {
     "data": {
      "text/plain": [
       "96.66666666666667"
      ]
     },
     "execution_count": 22,
     "metadata": {},
     "output_type": "execute_result"
    }
   ],
   "source": [
    "dt_classifier.score(X_test, y_test) * 100"
   ]
  },
  {
   "cell_type": "markdown",
   "metadata": {},
   "source": [
    "The tree that we found classifies $96,6\\%$ of the test set rows correctly."
   ]
  },
  {
   "cell_type": "markdown",
   "metadata": {},
   "source": [
    "#### Naive Bayes\n",
    "\n",
    "Let's try to use another algorithm to classify the dataset. We will use the Naive Bayes algorithm. Sklearn provides multiple implementations of this algorithm, and for this example we will use the Gaussian Naive Bayes model."
   ]
  },
  {
   "cell_type": "code",
   "execution_count": 23,
   "metadata": {},
   "outputs": [
    {
     "data": {
      "text/plain": [
       "GaussianNB()"
      ]
     },
     "execution_count": 23,
     "metadata": {},
     "output_type": "execute_result"
    }
   ],
   "source": [
    "from sklearn.naive_bayes import GaussianNB\n",
    "nb_classifier = GaussianNB()\n",
    "\n",
    "nb_classifier"
   ]
  },
  {
   "cell_type": "markdown",
   "metadata": {},
   "source": [
    "With the model created, we can fit it with our training data:"
   ]
  },
  {
   "cell_type": "code",
   "execution_count": 24,
   "metadata": {},
   "outputs": [
    {
     "data": {
      "text/plain": [
       "GaussianNB()"
      ]
     },
     "execution_count": 24,
     "metadata": {},
     "output_type": "execute_result"
    }
   ],
   "source": [
    "nb_classifier.fit(X_train, y_train)"
   ]
  },
  {
   "cell_type": "markdown",
   "metadata": {},
   "source": [
    "**Yes, it is the same we did for the decision tree. The advantage of the SKlearn framework is that it provides a common interface for working with the models. This is why we implemented the KMeans class using this interface.**\n",
    "\n",
    "The SKLearn models usually implement the following methods:\\\n",
    "*see https://scikit-learn.org/stable/developers/develop.html for more details*\n",
    "\n",
    "- `.fit(data, [targets])` (targets is ignored for unsupervised algorithms).\n",
    "- `.predict(data)`\n",
    "- `.score(data, [targets])`\n",
    "\n",
    "Thus, all the models that we are using will have those methods.\n",
    "\n",
    "The accuracy for the new model is:"
   ]
  },
  {
   "cell_type": "code",
   "execution_count": 27,
   "metadata": {},
   "outputs": [
    {
     "name": "stdout",
     "output_type": "stream",
     "text": [
      "1.0\n"
     ]
    }
   ],
   "source": [
    "print(nb_classifier.score(X_test, y_test))"
   ]
  },
  {
   "cell_type": "markdown",
   "metadata": {},
   "source": [
    "Wow, we found a perfect classifier! Actually, don't get excited too early, as this is a really easy dataset, and for the decision tree we used some tweaking of its parameters to get a non-perfect tree (try to change the parameters until you get a perfect decision tree).\n",
    "\n",
    "**Note 1: In the real world, finding perfect models for unknown data (i.e. test set) is really hard, if not impossible.**\n",
    "\n",
    "**Note 2: We can also get the score for the training dataset. Usually, having a perfect score for a training dataset means that our model will result in a bad model for unknown data (this is known as overfiting).**\n",
    "\n",
    "Later on we will come back to this."
   ]
  },
  {
   "cell_type": "markdown",
   "metadata": {},
   "source": [
    "### Clustering\n",
    "\n",
    "We have a set of three types of flowers. We already know that, so we will be cheating a little bit for the following models.\n",
    "\n",
    "We want to try to cluster all the flowers in disctinct groups. To do so, we will ignore the `Label` of the dataset."
   ]
  },
  {
   "cell_type": "code",
   "execution_count": 28,
   "metadata": {},
   "outputs": [
    {
     "data": {
      "text/html": [
       "<div>\n",
       "<style scoped>\n",
       "    .dataframe tbody tr th:only-of-type {\n",
       "        vertical-align: middle;\n",
       "    }\n",
       "\n",
       "    .dataframe tbody tr th {\n",
       "        vertical-align: top;\n",
       "    }\n",
       "\n",
       "    .dataframe thead th {\n",
       "        text-align: right;\n",
       "    }\n",
       "</style>\n",
       "<table border=\"1\" class=\"dataframe\">\n",
       "  <thead>\n",
       "    <tr style=\"text-align: right;\">\n",
       "      <th></th>\n",
       "      <th>sepal length (cm)</th>\n",
       "      <th>sepal width (cm)</th>\n",
       "      <th>petal length (cm)</th>\n",
       "      <th>petal width (cm)</th>\n",
       "    </tr>\n",
       "  </thead>\n",
       "  <tbody>\n",
       "    <tr>\n",
       "      <th>0</th>\n",
       "      <td>5.1</td>\n",
       "      <td>3.5</td>\n",
       "      <td>1.4</td>\n",
       "      <td>0.2</td>\n",
       "    </tr>\n",
       "    <tr>\n",
       "      <th>1</th>\n",
       "      <td>4.9</td>\n",
       "      <td>3.0</td>\n",
       "      <td>1.4</td>\n",
       "      <td>0.2</td>\n",
       "    </tr>\n",
       "    <tr>\n",
       "      <th>2</th>\n",
       "      <td>4.7</td>\n",
       "      <td>3.2</td>\n",
       "      <td>1.3</td>\n",
       "      <td>0.2</td>\n",
       "    </tr>\n",
       "    <tr>\n",
       "      <th>3</th>\n",
       "      <td>4.6</td>\n",
       "      <td>3.1</td>\n",
       "      <td>1.5</td>\n",
       "      <td>0.2</td>\n",
       "    </tr>\n",
       "    <tr>\n",
       "      <th>4</th>\n",
       "      <td>5.0</td>\n",
       "      <td>3.6</td>\n",
       "      <td>1.4</td>\n",
       "      <td>0.2</td>\n",
       "    </tr>\n",
       "  </tbody>\n",
       "</table>\n",
       "</div>"
      ],
      "text/plain": [
       "   sepal length (cm)  sepal width (cm)  petal length (cm)  petal width (cm)\n",
       "0                5.1               3.5                1.4               0.2\n",
       "1                4.9               3.0                1.4               0.2\n",
       "2                4.7               3.2                1.3               0.2\n",
       "3                4.6               3.1                1.5               0.2\n",
       "4                5.0               3.6                1.4               0.2"
      ]
     },
     "execution_count": 28,
     "metadata": {},
     "output_type": "execute_result"
    }
   ],
   "source": [
    "import pandas\n",
    "\n",
    "iris_dataset = pandas.DataFrame(loaded.data, columns=loaded.feature_names)\n",
    "\n",
    "iris_dataset.head()  # Get only the first rows of the dataframe"
   ]
  },
  {
   "cell_type": "markdown",
   "metadata": {},
   "source": [
    "We can visualize the data to have a preview of the result we want. \n",
    "\n",
    "We can use matplotlib to visualize data."
   ]
  },
  {
   "cell_type": "code",
   "execution_count": 35,
   "metadata": {
    "scrolled": true
   },
   "outputs": [
    {
     "data": {
      "image/png": "[encoded data removed]",
      "text/plain": [
       "<Figure size 432x288 with 1 Axes>"
      ]
     },
     "metadata": {
      "needs_background": "light"
     },
     "output_type": "display_data"
    }
   ],
   "source": [
    "import matplotlib.pyplot as plt\n",
    "\n",
    "x_column = \"petal width (cm)\"\n",
    "y_column = \"petal length (cm)\"\n",
    "\n",
    "plt.scatter(iris_dataset[x_column],\n",
    "            iris_dataset[y_column],\n",
    "            c=loaded.target,  # <- we cheat here, and we show the label\n",
    "            cmap=plt.cm.Set1)\n",
    "plt.xlabel(x_column)\n",
    "plt.ylabel(y_column)\n",
    "\n",
    "plt.show()"
   ]
  },
  {
   "cell_type": "markdown",
   "metadata": {},
   "source": [
    "To cluster the flowers we will use the KMeans algorithm.\n",
    "\n",
    "We will use the following parameters:\n",
    "\n",
    "- n_clusters: The number of clusters we want to find\n",
    "- init: how do we init the centroids. We will use random as we used in our algorithm\n",
    "- n_init: Number of times the k-means algorithm will be run with different centroids as starting point.\n",
    "- max_iter: Maximum number of steps we will allow the algorithm to execute for each run.\n",
    "- verbose: 1, show the training process"
   ]
  },
  {
   "cell_type": "code",
   "execution_count": 47,
   "metadata": {},
   "outputs": [
    {
     "data": {
      "text/plain": [
       "KMeans(init='random', max_iter=200, n_clusters=3, n_init=5, verbose=1)"
      ]
     },
     "execution_count": 47,
     "metadata": {},
     "output_type": "execute_result"
    }
   ],
   "source": [
    "from sklearn.cluster import KMeans\n",
    "\n",
    "kmeans_model = KMeans(n_clusters=3, init=\"random\", n_init=5, max_iter=200, verbose=1)\n",
    "\n",
    "kmeans_model"
   ]
  },
  {
   "cell_type": "code",
   "execution_count": 48,
   "metadata": {
    "scrolled": true
   },
   "outputs": [
    {
     "name": "stdout",
     "output_type": "stream",
     "text": [
      "Initialization complete\n",
      "Iteration 0, inertia 180.38000000000002\n",
      "Iteration 1, inertia 87.06161791132845\n",
      "Iteration 2, inertia 82.13703391490664\n",
      "Iteration 3, inertia 81.08093414092329\n",
      "Iteration 4, inertia 79.87357983461304\n",
      "Iteration 5, inertia 79.34436414532675\n",
      "Iteration 6, inertia 78.92130972222225\n",
      "Iteration 7, inertia 78.85566582597727\n",
      "Converged at iteration 7: strict convergence.\n",
      "Initialization complete\n",
      "Iteration 0, inertia 143.49000000000007\n",
      "Iteration 1, inertia 82.54210893336928\n",
      "Iteration 2, inertia 80.06802031163697\n",
      "Iteration 3, inertia 79.34436414532675\n",
      "Iteration 4, inertia 78.92130972222225\n",
      "Iteration 5, inertia 78.85566582597727\n",
      "Converged at iteration 5: strict convergence.\n",
      "Initialization complete\n",
      "Iteration 0, inertia 220.46999999999997\n",
      "Iteration 1, inertia 145.46386092322393\n",
      "Iteration 2, inertia 144.60527318215097\n",
      "Iteration 3, inertia 144.17125349400825\n",
      "Iteration 4, inertia 143.74764944714198\n",
      "Iteration 5, inertia 143.56290177914732\n",
      "Iteration 6, inertia 143.5137806560068\n",
      "Iteration 7, inertia 143.3103517573068\n",
      "Iteration 8, inertia 142.9128981252265\n",
      "Iteration 9, inertia 142.80495138888895\n",
      "Iteration 10, inertia 142.77336161700464\n",
      "Iteration 11, inertia 142.7540625000001\n",
      "Converged at iteration 11: strict convergence.\n",
      "Initialization complete\n",
      "Iteration 0, inertia 331.45000000000005\n",
      "Iteration 1, inertia 145.69851105029582\n",
      "Iteration 2, inertia 143.77672300116149\n",
      "Iteration 3, inertia 143.4471279213129\n",
      "Iteration 4, inertia 143.2557541377116\n",
      "Iteration 5, inertia 142.81536250000008\n",
      "Iteration 6, inertia 142.77336161700464\n",
      "Iteration 7, inertia 142.7540625000001\n",
      "Converged at iteration 7: strict convergence.\n",
      "Initialization complete\n",
      "Iteration 0, inertia 699.2500000000002\n",
      "Iteration 1, inertia 146.7849555546927\n",
      "Iteration 2, inertia 143.4680750233537\n",
      "Iteration 3, inertia 143.3103517573068\n",
      "Iteration 4, inertia 142.9128981252265\n",
      "Iteration 5, inertia 142.80495138888895\n",
      "Iteration 6, inertia 142.77336161700464\n",
      "Iteration 7, inertia 142.7540625000001\n",
      "Converged at iteration 7: strict convergence.\n"
     ]
    },
    {
     "data": {
      "text/plain": [
       "KMeans(init='random', max_iter=200, n_clusters=3, n_init=5, verbose=1)"
      ]
     },
     "execution_count": 48,
     "metadata": {},
     "output_type": "execute_result"
    }
   ],
   "source": [
    "kmeans_model.fit(iris_dataset)"
   ]
  },
  {
   "cell_type": "code",
   "execution_count": 49,
   "metadata": {},
   "outputs": [
    {
     "data": {
      "text/plain": [
       "78.85566582597727"
      ]
     },
     "execution_count": 49,
     "metadata": {},
     "output_type": "execute_result"
    }
   ],
   "source": [
    "kmeans_model.inertia_"
   ]
  },
  {
   "cell_type": "markdown",
   "metadata": {},
   "source": [
    "How we interpret the output of the training process?\n",
    "\n",
    "At each iteration, it reports the inertia. The inertia in this context is the sum of squared distances of the samples to their closest cluster center. Remember that the objective of KMeans is to minimize this.\n",
    "\n",
    "The training process will execute the KMeans algorithm 5 times, and use the result of the one that has the smallest inertia.\n"
   ]
  },
  {
   "cell_type": "markdown",
   "metadata": {},
   "source": [
    "We can obtain the assigned clusters for all the rows with the `predict` function:"
   ]
  },
  {
   "cell_type": "code",
   "execution_count": 50,
   "metadata": {},
   "outputs": [
    {
     "data": {
      "text/plain": [
       "array([1, 1, 1, 1, 1, 1, 1, 1, 1, 1, 1, 1, 1, 1, 1, 1, 1, 1, 1, 1, 1, 1,\n",
       "       1, 1, 1, 1, 1, 1, 1, 1, 1, 1, 1, 1, 1, 1, 1, 1, 1, 1, 1, 1, 1, 1,\n",
       "       1, 1, 1, 1, 1, 1, 0, 2, 0, 2, 2, 2, 2, 2, 2, 2, 2, 2, 2, 2, 2, 2,\n",
       "       2, 2, 2, 2, 2, 2, 2, 2, 2, 2, 2, 0, 2, 2, 2, 2, 2, 2, 2, 2, 2, 2,\n",
       "       2, 2, 2, 2, 2, 2, 2, 2, 2, 2, 2, 2, 0, 2, 0, 0, 0, 0, 2, 0, 0, 0,\n",
       "       0, 0, 0, 2, 2, 0, 0, 0, 0, 2, 0, 2, 0, 2, 0, 0, 2, 2, 0, 0, 0, 0,\n",
       "       0, 2, 0, 0, 0, 0, 2, 0, 0, 0, 2, 0, 0, 0, 2, 0, 0, 2], dtype=int32)"
      ]
     },
     "execution_count": 50,
     "metadata": {},
     "output_type": "execute_result"
    }
   ],
   "source": [
    "assigned = kmeans_model.predict(iris_dataset)\n",
    "\n",
    "assigned"
   ]
  },
  {
   "cell_type": "markdown",
   "metadata": {},
   "source": [
    "And print the same plot we had before, to see how the clusters are separated."
   ]
  },
  {
   "cell_type": "code",
   "execution_count": 51,
   "metadata": {},
   "outputs": [
    {
     "data": {
      "image/png": "[encoded data removed]",
      "text/plain": [
       "<Figure size 432x288 with 1 Axes>"
      ]
     },
     "metadata": {
      "needs_background": "light"
     },
     "output_type": "display_data"
    }
   ],
   "source": [
    "x_column = \"petal length (cm)\"\n",
    "y_column = \"sepal length (cm)\"\n",
    "\n",
    "plt.scatter(iris_dataset[x_column],\n",
    "            iris_dataset[y_column],\n",
    "            c=assigned,  # Instead of using the true label, we can set the color based on the assigned cluster\n",
    "            cmap=plt.cm.Set1)\n",
    "plt.xlabel(x_column)\n",
    "plt.ylabel(y_column)\n",
    "\n",
    "plt.show()"
   ]
  },
  {
   "cell_type": "markdown",
   "metadata": {},
   "source": [
    "We can even show the centroids found (in blue):"
   ]
  },
  {
   "cell_type": "code",
   "execution_count": 52,
   "metadata": {},
   "outputs": [
    {
     "name": "stdout",
     "output_type": "stream",
     "text": [
      "[[6.85384615 3.07692308 5.71538462 2.05384615]\n",
      " [5.006      3.428      1.462      0.246     ]\n",
      " [5.88360656 2.74098361 4.38852459 1.43442623]]\n"
     ]
    },
    {
     "data": {
      "image/png": "[encoded data removed]",
      "text/plain": [
       "<Figure size 432x288 with 1 Axes>"
      ]
     },
     "metadata": {
      "needs_background": "light"
     },
     "output_type": "display_data"
    }
   ],
   "source": [
    "print(kmeans_model.cluster_centers_)\n",
    "\n",
    "x_column = \"petal length (cm)\"\n",
    "y_column = \"sepal length (cm)\"\n",
    "x_column_idx = iris_dataset.columns.get_loc(x_column)\n",
    "y_column_idx = iris_dataset.columns.get_loc(y_column)\n",
    "\n",
    "plt.scatter(iris_dataset[x_column],\n",
    "            iris_dataset[y_column],\n",
    "            c=assigned,  # Instead of using the true label, we can set the color based on the assigned cluster\n",
    "            cmap=plt.cm.Set1)\n",
    "plt.scatter(kmeans_model.cluster_centers_[:,x_column_idx],\n",
    "            kmeans_model.cluster_centers_[:,y_column_idx], c=\"blue\")\n",
    "plt.xlabel(x_column)\n",
    "plt.ylabel(y_column)\n",
    "\n",
    "plt.show()"
   ]
  },
  {
   "cell_type": "markdown",
   "metadata": {},
   "source": [
    "## Model evaluation"
   ]
  },
  {
   "cell_type": "markdown",
   "metadata": {},
   "source": [
    "Up to this point we have evaluated each model just checking the accuracy on the test data. This is usually a first approach, but the selection of a good training and test split is something we don't know how to do yet, and we are splitting those sets randomly.\n",
    "\n",
    "If we select a bad train split, we might discard a model or its hyperparameters because the accuracy is bad or it does overfit.\n",
    "\n",
    "In order to mitigate the randomness nature of the split, we will use a technique called **cross validation**.\n",
    "\n",
    "\n",
    "Cross validation is a technique that is performed before evaluating a model against the test dataset.\n",
    "\n",
    "First, it splits the train dataset in `N` disjoint subsets, called folds. Then, it trains the model with all the folds but one, which will be used to test the accuracy. This is repeated for each fold, and all the accuracies found are averaged (or other metric).\n",
    "\n",
    "![Cross-validation](https://scikit-learn.org/stable/_images/grid_search_cross_validation.png)\n",
    "\n",
    "We can compare the resulting averages of accuracies from different models/hyperparameters to check which parameters are better for a specific train set.\n",
    "\n",
    "Then, we perform the final evaluation step against the test set.\n",
    "\n",
    "Using this technique, we can have more confidence about the selected model and hyperparameters.\n",
    "\n",
    "Let's see how we can do this using Sklearn. First, we will implement the iteration manually, and then we will use the method `cross_validate` to evaluate an entire model."
   ]
  },
  {
   "cell_type": "markdown",
   "metadata": {},
   "source": [
    "First, prepare the dataset:"
   ]
  },
  {
   "cell_type": "code",
   "execution_count": 53,
   "metadata": {},
   "outputs": [
    {
     "name": "stdout",
     "output_type": "stream",
     "text": [
      "(120, 4) (120,)\n",
      "(30, 4) (30,)\n"
     ]
    }
   ],
   "source": [
    "loaded = load_iris(as_frame=True)\n",
    "\n",
    "X_iris = loaded.data\n",
    "y_iris = loaded.target\n",
    "\n",
    "X_train, X_test, y_train, y_test = train_test_split(\n",
    "    X_iris, y_iris, test_size=0.2, random_state=42)\n",
    "\n",
    "print(X_train.shape, y_train.shape)\n",
    "print(X_test.shape, y_test.shape)"
   ]
  },
  {
   "cell_type": "code",
   "execution_count": 54,
   "metadata": {},
   "outputs": [
    {
     "name": "stdout",
     "output_type": "stream",
     "text": [
      "\n",
      "\n",
      "Testing arguments {'n_neighbors': 3}\n",
      "(96,), (24,)\n",
      "(96,), (24,)\n",
      "(96,), (24,)\n",
      "(96,), (24,)\n",
      "(96,), (24,)\n",
      "[0.9583333333333334, 1.0, 0.9166666666666666, 0.9166666666666666, 0.9583333333333334]\n",
      "Mean accuracy is 0.95\n",
      "\n",
      "\n",
      "Testing arguments {'n_neighbors': 5}\n",
      "(96,), (24,)\n",
      "(96,), (24,)\n",
      "(96,), (24,)\n",
      "(96,), (24,)\n",
      "(96,), (24,)\n",
      "[0.9583333333333334, 0.9583333333333334, 0.875, 0.9583333333333334, 0.9583333333333334]\n",
      "Mean accuracy is 0.9416666666666668\n"
     ]
    }
   ],
   "source": [
    "from sklearn.model_selection import KFold\n",
    "from sklearn.neighbors import KNeighborsClassifier\n",
    "import numpy\n",
    "\n",
    "kf = KFold(n_splits=5)\n",
    "\n",
    "model_class = KNeighborsClassifier\n",
    "arguments_to_try = [\n",
    "    {\"n_neighbors\": 3},\n",
    "    {\"n_neighbors\": 5}\n",
    "]\n",
    "\n",
    "for kwargs in arguments_to_try:\n",
    "    print(\"\\n\")\n",
    "    print(\"Testing arguments\", kwargs)    \n",
    "\n",
    "    accuracies = []\n",
    "    \n",
    "    # Cross validation:\n",
    "    \n",
    "    for train_folds_idx, validation_fold_idx in kf.split(train):\n",
    "        print(f\"{train_folds_idx.shape}, {validation_fold_idx.shape}\")\n",
    "        \n",
    "        model = model_class(**kwargs)\n",
    "        model.fit(X_train.iloc[train_folds_idx],\n",
    "                  y_train.iloc[train_folds_idx])\n",
    "        \n",
    "        accuracy = model.score(X_train.iloc[validation_fold_idx],\n",
    "                               y_train.iloc[validation_fold_idx])\n",
    "        \n",
    "        accuracies.append(accuracy)\n",
    "\n",
    "    # End cross validation for the model\n",
    "        \n",
    "    print(accuracies)\n",
    "    print(\"Mean accuracy is\", numpy.mean(accuracies))"
   ]
  },
  {
   "cell_type": "markdown",
   "metadata": {},
   "source": [
    "Now that we know how it works, we can use the function `cross_validate` that hides all the steps from us."
   ]
  },
  {
   "cell_type": "code",
   "execution_count": 55,
   "metadata": {},
   "outputs": [
    {
     "name": "stdout",
     "output_type": "stream",
     "text": [
      "\n",
      "Testing arguments {'n_neighbors': 3}\n",
      "{'fit_time': array([0.00274801, 0.00223994, 0.00206947, 0.00184035, 0.00173092]),\n",
      " 'score_time': array([0.00349569, 0.00277758, 0.00292063, 0.00239396, 0.00239253]),\n",
      " 'test_score': array([0.95833333, 1.        , 0.875     , 1.        , 0.95833333])}\n",
      "Mean accuracy is 0.9583333333333334\n",
      "\n",
      "Testing arguments {'n_neighbors': 5}\n",
      "{'fit_time': array([0.00183368, 0.00188398, 0.00175047, 0.00175548, 0.00150037]),\n",
      " 'score_time': array([0.00778389, 0.00231314, 0.00215268, 0.00203919, 0.0021522 ]),\n",
      " 'test_score': array([0.95833333, 0.95833333, 0.83333333, 1.        , 0.95833333])}\n",
      "Mean accuracy is 0.9416666666666667\n"
     ]
    }
   ],
   "source": [
    "from sklearn.model_selection import cross_validate\n",
    "import pprint\n",
    "\n",
    "loaded = load_iris(as_frame=True)\n",
    "\n",
    "X_iris = loaded.data\n",
    "y_iris = loaded.target\n",
    "\n",
    "X_train, X_test, y_train, y_test = train_test_split(\n",
    "    X_iris, y_iris, test_size=0.2, random_state=42)\n",
    "\n",
    "model_class = KNeighborsClassifier\n",
    "arguments_to_try = [\n",
    "    {\"n_neighbors\": 3},\n",
    "    {\"n_neighbors\": 5}\n",
    "]\n",
    "\n",
    "for kwargs in arguments_to_try:\n",
    "    print(\"\\nTesting arguments\", kwargs)    \n",
    "    model = model_class(**kwargs)\n",
    "    \n",
    "    accuracies = cross_validate(model, X_train, y_train, cv=5)\n",
    "    pprint.pprint(accuracies)\n",
    "    print(\"Mean accuracy is\", numpy.mean(accuracies[\"test_score\"]))"
   ]
  },
  {
   "cell_type": "markdown",
   "metadata": {},
   "source": [
    "## Transformations and pipelines"
   ]
  },
  {
   "cell_type": "markdown",
   "metadata": {},
   "source": [
    "SKlearn intends to be a library that allows not only to train models, but also perform preprocessing and transformations on the data.\n",
    "\n",
    "Here we will see a basic transformation of a dataset that is composed by numeric and categorical variables, and train a Gaussian Naive Bayes estimator to predict its class. As this estimator can use only numerical variables, we will see how to transform them to be suitable to be used by this model.\n",
    "\n",
    "The selected dataset is the *Early stage diabetes risk prediction* (https://archive.ics.uci.edu/ml/datasets/Early+stage+diabetes+risk+prediction+dataset.)"
   ]
  },
  {
   "cell_type": "code",
   "execution_count": 57,
   "metadata": {},
   "outputs": [
    {
     "data": {
      "text/html": [
       "<div>\n",
       "<style scoped>\n",
       "    .dataframe tbody tr th:only-of-type {\n",
       "        vertical-align: middle;\n",
       "    }\n",
       "\n",
       "    .dataframe tbody tr th {\n",
       "        vertical-align: top;\n",
       "    }\n",
       "\n",
       "    .dataframe thead th {\n",
       "        text-align: right;\n",
       "    }\n",
       "</style>\n",
       "<table border=\"1\" class=\"dataframe\">\n",
       "  <thead>\n",
       "    <tr style=\"text-align: right;\">\n",
       "      <th></th>\n",
       "      <th>Age</th>\n",
       "      <th>Gender</th>\n",
       "      <th>Polyuria</th>\n",
       "      <th>Polydipsia</th>\n",
       "      <th>sudden weight loss</th>\n",
       "      <th>weakness</th>\n",
       "      <th>Polyphagia</th>\n",
       "      <th>Genital thrush</th>\n",
       "      <th>visual blurring</th>\n",
       "      <th>Itching</th>\n",
       "      <th>Irritability</th>\n",
       "      <th>delayed healing</th>\n",
       "      <th>partial paresis</th>\n",
       "      <th>muscle stiffness</th>\n",
       "      <th>Alopecia</th>\n",
       "      <th>Obesity</th>\n",
       "      <th>class</th>\n",
       "    </tr>\n",
       "  </thead>\n",
       "  <tbody>\n",
       "    <tr>\n",
       "      <th>0</th>\n",
       "      <td>40</td>\n",
       "      <td>Male</td>\n",
       "      <td>No</td>\n",
       "      <td>Yes</td>\n",
       "      <td>No</td>\n",
       "      <td>Yes</td>\n",
       "      <td>No</td>\n",
       "      <td>No</td>\n",
       "      <td>No</td>\n",
       "      <td>Yes</td>\n",
       "      <td>No</td>\n",
       "      <td>Yes</td>\n",
       "      <td>No</td>\n",
       "      <td>Yes</td>\n",
       "      <td>Yes</td>\n",
       "      <td>Yes</td>\n",
       "      <td>Positive</td>\n",
       "    </tr>\n",
       "    <tr>\n",
       "      <th>1</th>\n",
       "      <td>58</td>\n",
       "      <td>Male</td>\n",
       "      <td>No</td>\n",
       "      <td>No</td>\n",
       "      <td>No</td>\n",
       "      <td>Yes</td>\n",
       "      <td>No</td>\n",
       "      <td>No</td>\n",
       "      <td>Yes</td>\n",
       "      <td>No</td>\n",
       "      <td>No</td>\n",
       "      <td>No</td>\n",
       "      <td>Yes</td>\n",
       "      <td>No</td>\n",
       "      <td>Yes</td>\n",
       "      <td>No</td>\n",
       "      <td>Positive</td>\n",
       "    </tr>\n",
       "    <tr>\n",
       "      <th>2</th>\n",
       "      <td>41</td>\n",
       "      <td>Male</td>\n",
       "      <td>Yes</td>\n",
       "      <td>No</td>\n",
       "      <td>No</td>\n",
       "      <td>Yes</td>\n",
       "      <td>Yes</td>\n",
       "      <td>No</td>\n",
       "      <td>No</td>\n",
       "      <td>Yes</td>\n",
       "      <td>No</td>\n",
       "      <td>Yes</td>\n",
       "      <td>No</td>\n",
       "      <td>Yes</td>\n",
       "      <td>Yes</td>\n",
       "      <td>No</td>\n",
       "      <td>Positive</td>\n",
       "    </tr>\n",
       "    <tr>\n",
       "      <th>3</th>\n",
       "      <td>45</td>\n",
       "      <td>Male</td>\n",
       "      <td>No</td>\n",
       "      <td>No</td>\n",
       "      <td>Yes</td>\n",
       "      <td>Yes</td>\n",
       "      <td>Yes</td>\n",
       "      <td>Yes</td>\n",
       "      <td>No</td>\n",
       "      <td>Yes</td>\n",
       "      <td>No</td>\n",
       "      <td>Yes</td>\n",
       "      <td>No</td>\n",
       "      <td>No</td>\n",
       "      <td>No</td>\n",
       "      <td>No</td>\n",
       "      <td>Positive</td>\n",
       "    </tr>\n",
       "    <tr>\n",
       "      <th>4</th>\n",
       "      <td>60</td>\n",
       "      <td>Male</td>\n",
       "      <td>Yes</td>\n",
       "      <td>Yes</td>\n",
       "      <td>Yes</td>\n",
       "      <td>Yes</td>\n",
       "      <td>Yes</td>\n",
       "      <td>No</td>\n",
       "      <td>Yes</td>\n",
       "      <td>Yes</td>\n",
       "      <td>Yes</td>\n",
       "      <td>Yes</td>\n",
       "      <td>Yes</td>\n",
       "      <td>Yes</td>\n",
       "      <td>Yes</td>\n",
       "      <td>Yes</td>\n",
       "      <td>Positive</td>\n",
       "    </tr>\n",
       "  </tbody>\n",
       "</table>\n",
       "</div>"
      ],
      "text/plain": [
       "   Age Gender Polyuria Polydipsia sudden weight loss weakness Polyphagia  \\\n",
       "0   40   Male       No        Yes                 No      Yes         No   \n",
       "1   58   Male       No         No                 No      Yes         No   \n",
       "2   41   Male      Yes         No                 No      Yes        Yes   \n",
       "3   45   Male       No         No                Yes      Yes        Yes   \n",
       "4   60   Male      Yes        Yes                Yes      Yes        Yes   \n",
       "\n",
       "  Genital thrush visual blurring Itching Irritability delayed healing  \\\n",
       "0             No              No     Yes           No             Yes   \n",
       "1             No             Yes      No           No              No   \n",
       "2             No              No     Yes           No             Yes   \n",
       "3            Yes              No     Yes           No             Yes   \n",
       "4             No             Yes     Yes          Yes             Yes   \n",
       "\n",
       "  partial paresis muscle stiffness Alopecia Obesity     class  \n",
       "0              No              Yes      Yes     Yes  Positive  \n",
       "1             Yes               No      Yes      No  Positive  \n",
       "2              No              Yes      Yes      No  Positive  \n",
       "3              No               No       No      No  Positive  \n",
       "4             Yes              Yes      Yes     Yes  Positive  "
      ]
     },
     "execution_count": 57,
     "metadata": {},
     "output_type": "execute_result"
    }
   ],
   "source": [
    "diabetes = pandas.read_csv(\"https://archive.ics.uci.edu/ml/machine-learning-databases/00529/diabetes_data_upload.csv\")\n",
    "diabetes.head()"
   ]
  },
  {
   "cell_type": "code",
   "execution_count": 58,
   "metadata": {},
   "outputs": [],
   "source": [
    "X_diabetes = diabetes.drop(\"class\", 1)\n",
    "y_diabetes = diabetes[\"class\"]\n",
    "\n",
    "X_train, X_test, y_train, y_test = train_test_split(X_diabetes, y_diabetes, random_state=42)"
   ]
  },
  {
   "cell_type": "markdown",
   "metadata": {},
   "source": [
    "If we try to train the model as we saw before, we should get an error because the dataset has categorical values:"
   ]
  },
  {
   "cell_type": "code",
   "execution_count": 59,
   "metadata": {},
   "outputs": [
    {
     "name": "stdout",
     "output_type": "stream",
     "text": [
      "Error: could not convert string to float: 'Female'\n"
     ]
    }
   ],
   "source": [
    "try:\n",
    "    GaussianNB().fit(X_train, y_train)\n",
    "except Exception as err:\n",
    "    print(\"Error:\", err)"
   ]
  },
  {
   "cell_type": "markdown",
   "metadata": {},
   "source": [
    "To convert those categorical attributes to numerical attributes, we can use a One Hot Encoding. Luckily for us, SKlearn has this preprocessor implemented. Let's see how to use it:"
   ]
  },
  {
   "cell_type": "code",
   "execution_count": 60,
   "metadata": {},
   "outputs": [
    {
     "name": "stdout",
     "output_type": "stream",
     "text": [
      "[[0. 0. 0. ... 0. 1. 0.]\n",
      " [0. 0. 0. ... 1. 1. 0.]\n",
      " [0. 0. 0. ... 0. 1. 0.]\n",
      " ...\n",
      " [0. 0. 0. ... 0. 1. 0.]\n",
      " [0. 0. 0. ... 0. 1. 0.]\n",
      " [0. 0. 0. ... 1. 1. 0.]]\n",
      "(390, 80)\n"
     ]
    }
   ],
   "source": [
    "from sklearn.preprocessing import OneHotEncoder\n",
    "\n",
    "ohe = OneHotEncoder(sparse=False)\n",
    "ohe.fit(X_train)\n",
    "transformed = ohe.transform(X_train)\n",
    "print(transformed)\n",
    "print(transformed.shape)"
   ]
  },
  {
   "cell_type": "code",
   "execution_count": 61,
   "metadata": {},
   "outputs": [
    {
     "name": "stdout",
     "output_type": "stream",
     "text": [
      "[array([16, 25, 26, 27, 28, 29, 30, 31, 32, 33, 34, 35, 36, 37, 38, 39, 40,\n",
      "       41, 42, 43, 44, 45, 46, 47, 48, 49, 50, 51, 52, 53, 54, 55, 56, 57,\n",
      "       58, 59, 60, 61, 62, 63, 64, 65, 66, 67, 68, 69, 70, 72, 79, 90]), array(['Female', 'Male'], dtype=object), array(['No', 'Yes'], dtype=object), array(['No', 'Yes'], dtype=object), array(['No', 'Yes'], dtype=object), array(['No', 'Yes'], dtype=object), array(['No', 'Yes'], dtype=object), array(['No', 'Yes'], dtype=object), array(['No', 'Yes'], dtype=object), array(['No', 'Yes'], dtype=object), array(['No', 'Yes'], dtype=object), array(['No', 'Yes'], dtype=object), array(['No', 'Yes'], dtype=object), array(['No', 'Yes'], dtype=object), array(['No', 'Yes'], dtype=object), array(['No', 'Yes'], dtype=object)]\n"
     ]
    }
   ],
   "source": [
    "print(ohe.categories_)"
   ]
  },
  {
   "cell_type": "markdown",
   "metadata": {},
   "source": [
    "Ugh, it encoded the numerical attribute `Age` as if it was a categorical.\n",
    "\n",
    "This is a common error. When we have datasets with different types of columns/features, we should preprocess them column-wise. For this, we have the ColumnTransformer, a *meta-preprocessor* that will be composed by multiple preprocessors, and it will apply them on certain columns only.\n",
    "\n",
    "First, let's get which columns are numeric and which are categorical:"
   ]
  },
  {
   "cell_type": "code",
   "execution_count": 62,
   "metadata": {},
   "outputs": [
    {
     "name": "stdout",
     "output_type": "stream",
     "text": [
      "['delayed healing', 'Polydipsia', 'muscle stiffness', 'Gender', 'Genital thrush', 'Polyphagia', 'visual blurring', 'partial paresis', 'weakness', 'Irritability', 'Alopecia', 'Itching', 'Obesity', 'sudden weight loss', 'Polyuria']\n"
     ]
    }
   ],
   "source": [
    "numeric_features = [\"Age\",]\n",
    "categorical_features = list(set(X_train.columns) - set(numeric_features))\n",
    "print(categorical_features)"
   ]
  },
  {
   "cell_type": "markdown",
   "metadata": {},
   "source": [
    "Now, we can compose the transformer. For the numerical features we will scale them, and for the categorical ones we will encode them using a OHE."
   ]
  },
  {
   "cell_type": "code",
   "execution_count": 63,
   "metadata": {},
   "outputs": [],
   "source": [
    "from sklearn.compose import ColumnTransformer\n",
    "from sklearn.preprocessing import StandardScaler\n",
    "\n",
    "preprocessor = ColumnTransformer(\n",
    "    transformers=[\n",
    "        (\"num\", StandardScaler(), numeric_features),\n",
    "        (\"cat\", OneHotEncoder(sparse=False), categorical_features)\n",
    "    ]\n",
    ")"
   ]
  },
  {
   "cell_type": "markdown",
   "metadata": {},
   "source": [
    "We can use the transformer as we used the OHE one before:"
   ]
  },
  {
   "cell_type": "code",
   "execution_count": 64,
   "metadata": {},
   "outputs": [
    {
     "name": "stdout",
     "output_type": "stream",
     "text": [
      "(390, 31)\n"
     ]
    }
   ],
   "source": [
    "transformed_X_train = preprocessor.fit_transform(X_train)  # same as fit + transform\n",
    "print(transformed_X_train.shape)"
   ]
  },
  {
   "cell_type": "markdown",
   "metadata": {},
   "source": [
    "Now, we have our data ready. We can use the gaussian naive bayes estimator with the transformed data:"
   ]
  },
  {
   "cell_type": "code",
   "execution_count": 65,
   "metadata": {},
   "outputs": [
    {
     "data": {
      "text/plain": [
       "0.8974358974358975"
      ]
     },
     "execution_count": 65,
     "metadata": {},
     "output_type": "execute_result"
    }
   ],
   "source": [
    "model = GaussianNB()\n",
    "model.fit(transformed_X_train, y_train)\n",
    "\n",
    "model.score(transformed_X_train, y_train)"
   ]
  },
  {
   "cell_type": "markdown",
   "metadata": {},
   "source": [
    "What happens when we try to get the test accuracy?"
   ]
  },
  {
   "cell_type": "code",
   "execution_count": 66,
   "metadata": {},
   "outputs": [
    {
     "name": "stdout",
     "output_type": "stream",
     "text": [
      "Error: could not convert string to float: 'Male'\n"
     ]
    }
   ],
   "source": [
    "try:\n",
    "    model.score(X_test, y_test)\n",
    "except Exception as err:\n",
    "    print(\"Error:\", err)"
   ]
  },
  {
   "cell_type": "markdown",
   "metadata": {},
   "source": [
    "As before, we have the raw data, so we should transform the test data.\\\n",
    "**IMPORTANT NOTE: the test data must not modify anything of the models and or preprocessors. Thus, we can only call transform, without fit.**"
   ]
  },
  {
   "cell_type": "code",
   "execution_count": 67,
   "metadata": {},
   "outputs": [
    {
     "data": {
      "text/plain": [
       "0.9153846153846154"
      ]
     },
     "execution_count": 67,
     "metadata": {},
     "output_type": "execute_result"
    }
   ],
   "source": [
    "transformed_X_test = preprocessor.transform(X_test)\n",
    "\n",
    "model.score(transformed_X_test, y_test)"
   ]
  },
  {
   "cell_type": "markdown",
   "metadata": {},
   "source": [
    "### Pipeline"
   ]
  },
  {
   "cell_type": "markdown",
   "metadata": {},
   "source": [
    "We have implemented an entire ML process, step by step. For prototyping this is right, but as we start to compose more complex models, we should start to use the *pipeline* concept.\n",
    "\n",
    "A pipeline is a way to tell SKlearn the different steps that it should perform to the dataset.\n",
    "This allows us to:\n",
    "\n",
    "1. Integrate the preprocessing and the models in a single step\n",
    "2. Compose multiple estimators\n",
    "3. Have cleaner code\n",
    "4. Use SKlearn helper functions on the entire process (hyperparameter configuration, cross-validation...)\n",
    "5. ...\n",
    "\n",
    "\n",
    "Let's create a pipeline to perform the entire process that we did before:"
   ]
  },
  {
   "cell_type": "code",
   "execution_count": 71,
   "metadata": {},
   "outputs": [
    {
     "name": "stdout",
     "output_type": "stream",
     "text": [
      "['Positive' 'Positive' 'Positive' 'Positive' 'Positive' 'Positive'\n",
      " 'Negative' 'Negative' 'Positive' 'Negative' 'Negative' 'Positive'\n",
      " 'Negative' 'Negative' 'Positive' 'Positive' 'Negative' 'Positive'\n",
      " 'Negative' 'Positive' 'Positive' 'Positive' 'Positive' 'Positive'\n",
      " 'Positive' 'Negative' 'Positive' 'Positive' 'Negative' 'Positive'\n",
      " 'Positive' 'Positive' 'Negative' 'Positive' 'Negative' 'Negative'\n",
      " 'Positive' 'Negative' 'Negative' 'Positive' 'Positive' 'Positive'\n",
      " 'Negative' 'Positive' 'Negative' 'Positive' 'Negative' 'Positive'\n",
      " 'Positive' 'Positive' 'Negative' 'Negative' 'Positive' 'Positive'\n",
      " 'Negative' 'Positive' 'Positive' 'Positive' 'Positive' 'Positive'\n",
      " 'Positive' 'Positive' 'Positive' 'Positive' 'Positive' 'Positive'\n",
      " 'Negative' 'Positive' 'Positive' 'Positive' 'Negative' 'Positive'\n",
      " 'Positive' 'Positive' 'Positive' 'Positive' 'Negative' 'Negative'\n",
      " 'Positive' 'Positive' 'Positive' 'Positive' 'Positive' 'Negative'\n",
      " 'Positive' 'Positive' 'Positive' 'Positive' 'Negative' 'Positive'\n",
      " 'Negative' 'Positive' 'Positive' 'Positive' 'Negative' 'Positive'\n",
      " 'Positive' 'Positive' 'Positive' 'Positive' 'Negative' 'Positive'\n",
      " 'Negative' 'Negative' 'Positive' 'Positive' 'Negative' 'Negative'\n",
      " 'Negative' 'Positive' 'Negative' 'Positive' 'Negative' 'Negative'\n",
      " 'Negative' 'Positive' 'Negative' 'Negative' 'Positive' 'Negative'\n",
      " 'Positive' 'Negative' 'Positive' 'Positive' 'Positive' 'Positive'\n",
      " 'Positive' 'Negative' 'Positive' 'Negative']\n",
      "\n",
      "91.53846153846153 %\n"
     ]
    }
   ],
   "source": [
    "from sklearn.pipeline import Pipeline\n",
    "\n",
    "preprocessor = ColumnTransformer(\n",
    "    transformers=[\n",
    "        (\"num\", StandardScaler(), numeric_features),\n",
    "        (\"cat\", OneHotEncoder(sparse=False), categorical_features)\n",
    "    ]\n",
    ")\n",
    "\n",
    "clf = Pipeline(steps=[\n",
    "    (\"preprocess\", preprocessor),\n",
    "    (\"classifier\", GaussianNB())\n",
    "])\n",
    "\n",
    "X_train, X_test, y_train, y_test = train_test_split(X_diabetes, y_diabetes, random_state=42)\n",
    "\n",
    "clf.fit(X_train, y_train)\n",
    "print(clf.predict(X_test), end=\"\\n\\n\")\n",
    "print(str(clf.score(X_test, y_test) * 100) + \" %\")"
   ]
  },
  {
   "cell_type": "markdown",
   "metadata": {},
   "source": [
    "The pipeline we created, `clf`, implements the `fit`, `predict`, and `score` methods. Thus, we can use it as a complete estimator, and for example get its cross validation score:"
   ]
  },
  {
   "cell_type": "code",
   "execution_count": 77,
   "metadata": {},
   "outputs": [
    {
     "name": "stdout",
     "output_type": "stream",
     "text": [
      "0.8820218809173154\n",
      "0.8692667788764991\n"
     ]
    }
   ],
   "source": [
    "from sklearn.model_selection import cross_val_score\n",
    "\n",
    "preprocessor = ColumnTransformer(\n",
    "    transformers=[\n",
    "        (\"num\", StandardScaler(), numeric_features),\n",
    "        (\"cat\", OneHotEncoder(sparse=False), categorical_features)\n",
    "    ]\n",
    ")\n",
    "\n",
    "clf = Pipeline(steps=[\n",
    "    (\"preprocess\", preprocessor),\n",
    "    (\"classifier\", GaussianNB())\n",
    "])\n",
    "\n",
    "clf2 = Pipeline(steps=[\n",
    "    (\"preprocess\", preprocessor),\n",
    "    (\"classifier\", DecisionTreeClassifier(max_depth=2))\n",
    "])\n",
    "\n",
    "X_train, X_test, y_train, y_test = train_test_split(X_diabetes, y_diabetes, random_state=42)\n",
    "\n",
    "# cross_validation\n",
    "print(numpy.mean(cross_val_score(clf, X_train, y_train, cv=4)))\n",
    "print(numpy.mean(cross_val_score(clf2, X_train, y_train, cv=4)))"
   ]
  }
 ],
 "metadata": {
  "kernelspec": {
   "display_name": "Python 3",
   "language": "python",
   "name": "python3"
  },
  "language_info": {
   "codemirror_mode": {
    "name": "ipython",
    "version": 3
   },
   "file_extension": ".py",
   "mimetype": "text/x-python",
   "name": "python",
   "nbconvert_exporter": "python",
   "pygments_lexer": "ipython3",
   "version": "3.8.5"
  }
 },
 "nbformat": 4,
 "nbformat_minor": 2
}
