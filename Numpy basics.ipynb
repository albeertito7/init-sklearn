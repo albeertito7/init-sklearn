{
 "cells": [
  {
   "cell_type": "markdown",
   "metadata": {
    "slideshow": {
     "slide_type": "slide"
    }
   },
   "source": [
    "# Numpy basics\n",
    "Numpy is a library that provides an easy interface to work with N-dimensional arrays, instead of using the pure python alternative that is nested lists.\n",
    "\n",
    "Offers comprehensive mathematical functions, random number generators, linear algebra routines, Fourier transforms, and more. And also, supports a wide range of hardware and computing platforms, and plays well with distributed, GPU, and sparse array libraries \n",
    "\n",
    "Open source software, distributed under a liberal BSD license, NumPy is developed and maintained publicly on GitHub by a vibrant, responsive, and diverse community.\n",
    "- **Author:** Travis Oliphant\n",
    "- **Creation year**: 2005\n",
    "- **Last stable version:** 1.19.2\n",
    "- **Programme type:** Numerical analysis software\n",
    "- **Programmed in:** Python; C; Fortran\n",
    "- **Programming languages:** Python, C\n",
    "- **Code base:** https://github.com/numpy/numpy\n",
    "\n",
    "**The main problem we can have using numpy is that we cannot use values that are not numeric** (see: https://numpy.org/doc/stable/user/basics.types.html for all the available types). \n",
    "*Although this is not entirely true, as we will see when using pandas, this library is focused on working with numbers.*\n",
    "\n",
    "\n",
    "### Why use NumPy?\n",
    "\n",
    "NumPy aims to provide an array object that is **up to 50x faster than traditional Python lists**.\n",
    "\n",
    "The array object in NumPy is called **ndarray**, it provides a lot of supporting functions that make working with ndarray very easy.\n",
    "\n",
    "Arrays are very frequently used in data science, where speed and resources are very important.\n",
    "\n",
    "> **Data Science:** is a branch of computer science where is studied how to store, use and analyze data for deriving information from it.\n",
    "\n",
    "\n",
    "\n",
    "### Why is NumPy faster than Python lists?\n",
    "\n",
    "NumPy arrays are stored at one continuous place in memory unlike lists, so processes can access and manipulate them very efficiently.\n",
    "\n",
    "This behavior is called locality of reference in computer science.\n",
    "\n",
    "This is the main reason why **NumPy is faster than lists**. Also it is optimized to work with latest CPU architectures.\n",
    "\n",
    "\n",
    "## Get Started\n",
    "\n",
    "**To install python is used 'pip' as package manager but there are others like 'anaconda' that can be used as well**\n",
    "\n",
    "We can check if the numpy python module is installed, just running the next command in our shell. If so, it will show us information about it along with the version."
   ]
  },
  {
   "cell_type": "code",
   "execution_count": null,
   "metadata": {
    "scrolled": true
   },
   "outputs": [],
   "source": [
    "!pip show numpy"
   ]
  },
  {
   "cell_type": "markdown",
   "metadata": {},
   "source": [
    "If we do not have it installed, we can install it using the following command in our shell (usually inside a virtualenv):"
   ]
  },
  {
   "cell_type": "code",
   "execution_count": null,
   "metadata": {
    "slideshow": {
     "slide_type": "slide"
    }
   },
   "outputs": [],
   "source": [
    "!pip install numpy"
   ]
  },
  {
   "cell_type": "markdown",
   "metadata": {},
   "source": [
    "On the other hand, if the version we have installed is not the most recent one; we can update the module by running:"
   ]
  },
  {
   "cell_type": "code",
   "execution_count": null,
   "metadata": {},
   "outputs": [],
   "source": [
    " !pip install -U numpy"
   ]
  },
  {
   "cell_type": "markdown",
   "metadata": {},
   "source": [
    "## First step\n",
    "\n",
    "First we need to import the module to give it access to the python script, and renaming it using the most common convention -> **np**"
   ]
  },
  {
   "cell_type": "code",
   "execution_count": null,
   "metadata": {},
   "outputs": [],
   "source": [
    "import numpy as np"
   ]
  },
  {
   "cell_type": "markdown",
   "metadata": {
    "slideshow": {
     "slide_type": "slide"
    }
   },
   "source": [
    "## Numpy arrays\n",
    "\n",
    "Once we have it, let's see how to create an array, access a single value, or access an entire row or column.\n",
    "\n",
    "NumPy is used to work with arrays. The array object in NumPy is called **ndarray**."
   ]
  },
  {
   "cell_type": "code",
   "execution_count": null,
   "metadata": {
    "slideshow": {
     "slide_type": "slide"
    }
   },
   "outputs": [],
   "source": [
    "pure_python_data = [\n",
    "    [1,  2,  3,  4],\n",
    "    [5,  6,  7,  8],\n",
    "    [9, 10, 11, 12]\n",
    "]\n",
    "\n",
    "array = np.array(pure_python_data) # creation\n",
    "\n",
    "print(array)\n",
    "print(type(pure_python_data))\n",
    "print(type(array))"
   ]
  },
  {
   "cell_type": "markdown",
   "metadata": {
    "slideshow": {
     "slide_type": "slide"
    }
   },
   "source": [
    "We can fetch additional information of the array:"
   ]
  },
  {
   "cell_type": "code",
   "execution_count": null,
   "metadata": {
    "slideshow": {
     "slide_type": "slide"
    }
   },
   "outputs": [],
   "source": [
    "print(\"There are\", array.ndim, \"dimensions in the array\") # 1 dim -> single row, 2 dim -> matrix, 3 dim -> cube ...\n",
    "print(\"The shape of the array is\", array.shape) # (rows, columns)\n",
    "print(\"In total, there are\", array.size, \"values\") # How many values form the array?\n",
    "print(\"We have an array of\", array.dtype) # What type are the values of the array?"
   ]
  },
  {
   "cell_type": "markdown",
   "metadata": {},
   "source": [
    "Other interesting creation methods:"
   ]
  },
  {
   "cell_type": "code",
   "execution_count": null,
   "metadata": {},
   "outputs": [],
   "source": [
    "array2 = np.array([i for i in range(1,13)]) # convert 1 dim array with 12 elements into a 3 dim array\n",
    "array2 = array2.reshape(2, 3, 2) # will have 2 arrays that contains 3 arrays, each with 2 elements\n",
    "print(array2)"
   ]
  },
  {
   "cell_type": "code",
   "execution_count": null,
   "metadata": {},
   "outputs": [],
   "source": [
    "np.eye(10,5) # return a 2 dim array with ones on the main diagonal and zeros elsewhere"
   ]
  },
  {
   "cell_type": "markdown",
   "metadata": {},
   "source": [
    "For other methods see: https://numpy.org/doc/stable/reference/routines.array-creation.html"
   ]
  },
  {
   "cell_type": "markdown",
   "metadata": {},
   "source": [
    "## Can an array be reshaped into any shape?\n",
    "\n",
    "Yes, as long as the elements required for reshaping are equal in both shapes.\n",
    "\n",
    "We can reshape an 8 elements 1 dim array into 4 elements in 2 rows 2 dim array but we cannot reshape it into a 3 elements 3 rows 2 dim array as that would require 3x3 = 9 elements."
   ]
  },
  {
   "cell_type": "code",
   "execution_count": null,
   "metadata": {},
   "outputs": [],
   "source": [
    "array3 = np.array([1, 2, 3, 4, 5, 6, 7, 8]).reshape(3, 3)"
   ]
  },
  {
   "cell_type": "markdown",
   "metadata": {},
   "source": [
    "## Numpy axes"
   ]
  },
  {
   "cell_type": "markdown",
   "metadata": {},
   "source": [
    "One of the most difficult concept of numpy is the concept of axes (we will see later why).\n",
    "\n",
    "It is important to have this concept clear, as it will avoid having troubles when using numpy functions such as `sum`, `mean`, `max`, `min`...\n",
    "\n",
    "### Definition\n",
    "- Axes are defined for arrays with more than one dimension.\n",
    "- A 2 dim array has two corresponding axes: the first running vertically downwards across rows (axis 0), and the second running horizontally across columns (axis 1)\n",
    "\n",
    "\n",
    "Assuming two dimensions, we have the following array:"
   ]
  },
  {
   "cell_type": "code",
   "execution_count": null,
   "metadata": {},
   "outputs": [],
   "source": [
    "np.eye(5,6, dtype=np.int) # (rows, columns)"
   ]
  },
  {
   "cell_type": "markdown",
   "metadata": {},
   "source": [
    "When we talk that we are operating on the axis 0, we are talking about traversing the array in the direction of how the rows are span:\n",
    "\n",
    "![Source: https://www.sharpsightlabs.com/blog/numpy-axes-explained/](https://vrzkj25a871bpq7t1ugcgmn9-wpengine.netdna-ssl.com/wp-content/uploads/2018/12/numpy-axis0.png)\n",
    "\n",
    "Thus, when we apply an operation over the row axis, we are collapsing the rows into a single row, while keeping all the other dimensions.\n",
    "\n",
    "The next dimension is the columns, so when we apply an operation over the column axis (axis 1) we are collapsing the columns.\n",
    "\n",
    "![Source: https://www.sharpsightlabs.com/blog/numpy-axes-explained/](https://vrzkj25a871bpq7t1ugcgmn9-wpengine.netdna-ssl.com/wp-content/uploads/2018/12/numpy-axis-1.png)\n",
    "Source: https://www.sharpsightlabs.com/blog/numpy-axes-explained/\n",
    "\n",
    "**We will come at this later.**"
   ]
  },
  {
   "cell_type": "markdown",
   "metadata": {
    "slideshow": {
     "slide_type": "slide"
    }
   },
   "source": [
    "## Accessing array values"
   ]
  },
  {
   "cell_type": "markdown",
   "metadata": {},
   "source": [
    "If we want to access a single element, with python lists we would use nested indexing, such as:"
   ]
  },
  {
   "cell_type": "code",
   "execution_count": null,
   "metadata": {},
   "outputs": [],
   "source": [
    "pure_python_data[1][3] # two step operation"
   ]
  },
  {
   "cell_type": "markdown",
   "metadata": {},
   "source": [
    "With numpy, we can access the value using only one indexing that combines both the first and second dimensions:"
   ]
  },
  {
   "cell_type": "code",
   "execution_count": null,
   "metadata": {},
   "outputs": [],
   "source": [
    "array[1, 3] # only one stpe -> more efficiency"
   ]
  },
  {
   "cell_type": "markdown",
   "metadata": {},
   "source": [
    "If we skip a dimension, we get all the values in the dimension we skipped.\n",
    "\n",
    "For example, not specifying the column we get the row with all the columns:"
   ]
  },
  {
   "cell_type": "code",
   "execution_count": null,
   "metadata": {},
   "outputs": [],
   "source": [
    "array[1,]"
   ]
  },
  {
   "cell_type": "markdown",
   "metadata": {},
   "source": [
    "This resembles the code that we use with pure python (to get a row we use `list[row_no]`). The advantage of using numpy is that we can also access columns for example:"
   ]
  },
  {
   "cell_type": "code",
   "execution_count": null,
   "metadata": {},
   "outputs": [],
   "source": [
    "array[:, 2]"
   ]
  },
  {
   "cell_type": "markdown",
   "metadata": {},
   "source": [
    "**Note** that we have to set the `:` indexing value (fetch all values) for all the dimensions that we skip before specifying a value, to be explicit about which dimension we are using."
   ]
  },
  {
   "cell_type": "markdown",
   "metadata": {},
   "source": [
    "This simplifies the code when we are working with lists of data. \n",
    "\n",
    "For example, when implementing the algorithm KMeans, we must compute the centroid by calculating the mean point of all the points assigned to this centroid.\n",
    "\n",
    "With pure python, we used:"
   ]
  },
  {
   "cell_type": "code",
   "execution_count": null,
   "metadata": {},
   "outputs": [],
   "source": [
    "points = np.array([\n",
    "    (1, 2),\n",
    "    (3, 2),\n",
    "    (4, 4)\n",
    "])\n",
    "\n",
    "def mean_points(points): # two loops are needed\n",
    "    n_feats = len(points[0])\n",
    "    acc = [0.0] * n_feats\n",
    "    for i in range(n_feats):\n",
    "        for p in points:\n",
    "            acc[i] += p[i]\n",
    "        \n",
    "        acc[i] /= len(points)\n",
    "    \n",
    "    return acc\n",
    "print(mean_points(points))"
   ]
  },
  {
   "cell_type": "markdown",
   "metadata": {},
   "source": [
    "Using numpy, we can set this function to be:"
   ]
  },
  {
   "cell_type": "code",
   "execution_count": null,
   "metadata": {},
   "outputs": [],
   "source": [
    "def mean_points(points):\n",
    "    n_points, n_feats = points.shape\n",
    "    acc = [sum(points[:,i]) / n_points for i in range(n_feats)] # only one loop\n",
    "    return acc\n",
    "\n",
    "print(mean_points(points))"
   ]
  },
  {
   "cell_type": "markdown",
   "metadata": {},
   "source": [
    "### Numpy convenient  methods"
   ]
  },
  {
   "cell_type": "markdown",
   "metadata": {},
   "source": [
    "As some operations are common in mots user cases, Numpy provides some methods to apply those common operations to an array. Thus, if we want to sum an entire array we would not write an iterator, but just use the `.sum` method:"
   ]
  },
  {
   "cell_type": "code",
   "execution_count": null,
   "metadata": {},
   "outputs": [],
   "source": [
    "def mean_points(points):\n",
    "    n_points, n_feats = points.shape\n",
    "    return points.sum(axis=0) / n_points # no loops thanks to numpy axes\n",
    "print(mean_points(points))"
   ]
  },
  {
   "cell_type": "markdown",
   "metadata": {},
   "source": [
    "Other available methods that we have are:\n",
    "\n",
    "- `.min`\n",
    "- `.max`\n",
    "- `.mean`\n",
    "- `.median`\n",
    "- ..."
   ]
  },
  {
   "cell_type": "markdown",
   "metadata": {},
   "source": [
    "So we can improve even more our mean_points function to be:"
   ]
  },
  {
   "cell_type": "code",
   "execution_count": null,
   "metadata": {},
   "outputs": [],
   "source": [
    "def mean_point(points):\n",
    "    # return points.mean(axis=0)\n",
    "    return np.mean(points, axis=0)\n",
    "\n",
    "print(mean_point(points))"
   ]
  },
  {
   "cell_type": "markdown",
   "metadata": {},
   "source": [
    "## Operations using numpy arrays"
   ]
  },
  {
   "cell_type": "markdown",
   "metadata": {},
   "source": [
    "We can apply arithmetic operators between arrays *elementwise*. This means that for example we can sum a matrix with another one directly.\n",
    "\n",
    "**Note the \"elementwise\". When multiplying matrices using `a*b` in Numpy, it will not apply the same rules we use in maths.**"
   ]
  },
  {
   "cell_type": "code",
   "execution_count": null,
   "metadata": {},
   "outputs": [],
   "source": [
    "array1 = np.arange(9).reshape(3, 3)\n",
    "# arange creates a single dimension array with the elements\n",
    "# from 0 to 8\n",
    "# with reshape we give it the desired shape (a 3x3 matrix)\n",
    "\n",
    "array2 = np.ones((3,3), dtype=np.int32)\n",
    "# ones creates an array with the desired shape (3,3) filled with ones\n",
    "\n",
    "print(array1)\n",
    "print(array2)\n",
    "\n",
    "array1 * array2"
   ]
  },
  {
   "cell_type": "code",
   "execution_count": null,
   "metadata": {},
   "outputs": [],
   "source": [
    "print((array1 * array2) / 2.)\n",
    "print((array1 * array2) / 2)   # <- division between ints is an int in python 2"
   ]
  },
  {
   "cell_type": "markdown",
   "metadata": {},
   "source": [
    "## Conclusion"
   ]
  },
  {
   "cell_type": "markdown",
   "metadata": {},
   "source": [
    "This was a really basic introduction to the numpy library. This library is really extense, and has lots of methods to help us deal with matrix operations.\n",
    "\n",
    "Numpy is interesting by itself, but also when using other frameworks such as Pandas, Tensorflow, Pytorch... you will see that they resemble the language used by this library.\n",
    "\n",
    "For more information, check the official documentation at https://numpy.org/doc/stable/"
   ]
  }
 ],
 "metadata": {
  "kernelspec": {
   "display_name": "Python 3",
   "language": "python",
   "name": "python3"
  },
  "language_info": {
   "codemirror_mode": {
    "name": "ipython",
    "version": 3
   },
   "file_extension": ".py",
   "mimetype": "text/x-python",
   "name": "python",
   "nbconvert_exporter": "python",
   "pygments_lexer": "ipython3",
   "version": "3.9.0"
  }
 },
 "nbformat": 4,
 "nbformat_minor": 2
}
